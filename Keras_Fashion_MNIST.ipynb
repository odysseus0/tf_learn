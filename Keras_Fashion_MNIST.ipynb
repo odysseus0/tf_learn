{
  "nbformat": 4,
  "nbformat_minor": 0,
  "metadata": {
    "colab": {
      "name": "Keras-Fashion-MNIST.ipynb",
      "version": "0.3.2",
      "provenance": [],
      "include_colab_link": true
    },
    "kernelspec": {
      "name": "python3",
      "display_name": "Python 3"
    },
    "accelerator": "TPU"
  },
  "cells": [
    {
      "cell_type": "markdown",
      "metadata": {
        "id": "view-in-github",
        "colab_type": "text"
      },
      "source": [
        "<a href=\"https://colab.research.google.com/github/odysseus0/tf_learn/blob/master/Keras_Fashion_MNIST.ipynb\" target=\"_parent\"><img src=\"https://colab.research.google.com/assets/colab-badge.svg\" alt=\"Open In Colab\"/></a>"
      ]
    },
    {
      "metadata": {
        "id": "BRrVCR-0ZLLd",
        "colab_type": "code",
        "outputId": "830a8eee-0897-4a62-b30b-8dece729ddc9",
        "colab": {
          "base_uri": "https://localhost:8080/",
          "height": 34
        }
      },
      "cell_type": "code",
      "source": [
        "import tensorflow as tf\n",
        "from tensorflow import keras\n",
        "\n",
        "# Helper libraries\n",
        "import numpy as np\n",
        "import matplotlib.pyplot as plt\n",
        "import os\n",
        "\n",
        "%matplotlib inline\n",
        "\n",
        "tf.VERSION"
      ],
      "execution_count": 0,
      "outputs": [
        {
          "output_type": "execute_result",
          "data": {
            "text/plain": [
              "'1.13.1'"
            ]
          },
          "metadata": {
            "tags": []
          },
          "execution_count": 1
        }
      ]
    },
    {
      "metadata": {
        "id": "MCF6NSuaZWBI",
        "colab_type": "code",
        "colab": {}
      },
      "cell_type": "code",
      "source": [
        "fashion_mnist = keras.datasets.fashion_mnist\n",
        "\n",
        "(train_images, train_labels), (test_images, test_labels) = fashion_mnist.load_data()"
      ],
      "execution_count": 0,
      "outputs": []
    },
    {
      "metadata": {
        "id": "U2AEBpKpZih3",
        "colab_type": "code",
        "colab": {}
      },
      "cell_type": "code",
      "source": [
        "class_names = ['T-shirt/top', 'Trouser', 'Pullover', 'Dress', 'Coat', \n",
        "               'Sandal', 'Shirt', 'Sneaker', 'Bag', 'Ankle boot']"
      ],
      "execution_count": 0,
      "outputs": []
    },
    {
      "metadata": {
        "id": "M7CLEzniZowk",
        "colab_type": "text"
      },
      "cell_type": "markdown",
      "source": [
        "## Explore the data"
      ]
    },
    {
      "metadata": {
        "id": "7knslWPaZlXp",
        "colab_type": "code",
        "colab": {}
      },
      "cell_type": "code",
      "source": [
        "train_images.shape, train_labels.shape, test_images.shape, test_labels.shape"
      ],
      "execution_count": 0,
      "outputs": []
    },
    {
      "metadata": {
        "id": "aIjrRwXiZ_1U",
        "colab_type": "text"
      },
      "cell_type": "markdown",
      "source": [
        "So here we know that just like MNIST, Fashion-MNIST also have image size of 28 x 28.\n",
        "\n",
        "There are 60000 training examples and 10000 testing examples.\n",
        "\n",
        "Below is an example of the training data."
      ]
    },
    {
      "metadata": {
        "id": "tZUhXYQWZ0aD",
        "colab_type": "code",
        "colab": {}
      },
      "cell_type": "code",
      "source": [
        "plt.imshow(train_images[0])\n",
        "plt.colorbar()\n",
        "plt.grid(False)"
      ],
      "execution_count": 0,
      "outputs": []
    },
    {
      "metadata": {
        "id": "-00BR7MNa5PV",
        "colab_type": "text"
      },
      "cell_type": "markdown",
      "source": [
        "Now we are going to have a look at the labels."
      ]
    },
    {
      "metadata": {
        "id": "VYefi7BPaNip",
        "colab_type": "code",
        "colab": {}
      },
      "cell_type": "code",
      "source": [
        "np.unique(train_labels)"
      ],
      "execution_count": 0,
      "outputs": []
    },
    {
      "metadata": {
        "id": "I9z9ZF9ia7bj",
        "colab_type": "text"
      },
      "cell_type": "markdown",
      "source": [
        "So there are 10 classes of fashion objects in the dataset, just like the 10 digits in the original MNIST."
      ]
    },
    {
      "metadata": {
        "id": "iOk-GdBPa1Nw",
        "colab_type": "code",
        "colab": {}
      },
      "cell_type": "code",
      "source": [
        "plt.figure(figsize=(10,10))\n",
        "for i in range(25):\n",
        "    plt.subplot(5,5,i+1)\n",
        "    plt.xticks([])\n",
        "    plt.yticks([])\n",
        "    plt.grid(False)\n",
        "    plt.imshow(train_images[i], cmap=plt.cm.binary)\n",
        "    plt.xlabel(class_names[train_labels[i]])\n",
        "plt.show()"
      ],
      "execution_count": 0,
      "outputs": []
    },
    {
      "metadata": {
        "id": "CFDV68wbbxCg",
        "colab_type": "text"
      },
      "cell_type": "markdown",
      "source": [
        "## Preprocessing\n",
        "\n",
        "For better training performance, here we are going to first rescale the image pixel range."
      ]
    },
    {
      "metadata": {
        "id": "2EyaCoYCbYqG",
        "colab_type": "code",
        "colab": {}
      },
      "cell_type": "code",
      "source": [
        "train_images = train_images / 255.0\n",
        "test_images = test_images / 255.0"
      ],
      "execution_count": 0,
      "outputs": []
    },
    {
      "metadata": {
        "id": "HNsO-SvGcURx",
        "colab_type": "text"
      },
      "cell_type": "markdown",
      "source": [
        "## Build and train the model"
      ]
    },
    {
      "metadata": {
        "id": "F_LO-I7jcSfW",
        "colab_type": "code",
        "colab": {}
      },
      "cell_type": "code",
      "source": [
        "model = keras.models.Sequential([\n",
        "    keras.layers.Flatten(input_shape=(28, 28)),\n",
        "    keras.layers.Dense(128, activation=tf.nn.relu),\n",
        "    keras.layers.Dense(10, activation=tf.nn.softmax)\n",
        "])"
      ],
      "execution_count": 0,
      "outputs": []
    },
    {
      "metadata": {
        "id": "3gAESs-pe7bf",
        "colab_type": "code",
        "colab": {}
      },
      "cell_type": "code",
      "source": [
        "tpu_model = tf.contrib.tpu.keras_to_tpu_model(\n",
        "    model,\n",
        "    strategy=tf.contrib.tpu.TPUDistributionStrategy(\n",
        "        tf.contrib.cluster_resolver.TPUClusterResolver(\n",
        "            tpu='grpc://' + os.environ['COLAB_TPU_ADDR'])\n",
        "    )\n",
        ")\n",
        "tpu_model.compile(\n",
        "    optimizer=tf.train.AdamOptimizer(learning_rate=1e-3, ),\n",
        "    loss=tf.keras.losses.sparse_categorical_crossentropy,\n",
        "    metrics=['sparse_categorical_accuracy']\n",
        ")"
      ],
      "execution_count": 0,
      "outputs": []
    },
    {
      "metadata": {
        "id": "pRiuQH5ddH88",
        "colab_type": "code",
        "colab": {}
      },
      "cell_type": "code",
      "source": [
        "tpu_model.fit(train_images, train_labels, batch_size=64 * 8, epochs=20, \n",
        "          validation_split=0.1)"
      ],
      "execution_count": 0,
      "outputs": []
    },
    {
      "metadata": {
        "id": "LRC5RjM7g2KV",
        "colab_type": "text"
      },
      "cell_type": "markdown",
      "source": [
        "## CNN from scratch in Keras"
      ]
    },
    {
      "metadata": {
        "id": "gpFuTsDIg1_S",
        "colab_type": "code",
        "colab": {}
      },
      "cell_type": "code",
      "source": [
        "model = keras.models.Sequential([\n",
        "    keras.layers.Reshape((28, 28, 1), input_shape=(28, 28)),\n",
        "    keras.layers.Conv2D(10, 3, 1, 'same', activation='relu', use_bias=True,\n",
        "                        kernel_initializer=keras.initializers.he_uniform()),\n",
        "    keras.layers.Conv2D(10, 3, 1, 'same', activation='relu', use_bias=True,\n",
        "                        kernel_initializer=keras.initializers.he_uniform()),\n",
        "    keras.layers.MaxPool2D(2, (2, 2), 'same'),\n",
        "    keras.layers.Conv2D(40, 3, 1, 'same', activation='relu', use_bias=True,\n",
        "                        kernel_initializer=keras.initializers.he_uniform()),\n",
        "    keras.layers.Conv2D(40, 3, 1, 'same', activation='relu', use_bias=True,\n",
        "                        kernel_initializer=keras.initializers.he_uniform()),\n",
        "    keras.layers.MaxPool2D(2, (2, 2), 'same'),\n",
        "    keras.layers.Flatten(),\n",
        "    keras.layers.Dense(128, activation=tf.nn.relu),\n",
        "    keras.layers.Dense(10, activation=tf.nn.softmax)\n",
        "])"
      ],
      "execution_count": 0,
      "outputs": []
    },
    {
      "metadata": {
        "id": "mNCtNjduipxw",
        "colab_type": "code",
        "colab": {}
      },
      "cell_type": "code",
      "source": [
        "model.summary()"
      ],
      "execution_count": 0,
      "outputs": []
    },
    {
      "metadata": {
        "id": "MmVOMsltjH2a",
        "colab_type": "code",
        "colab": {}
      },
      "cell_type": "code",
      "source": [
        "tpu_model = tf.contrib.tpu.keras_to_tpu_model(\n",
        "    model,\n",
        "    strategy=tf.contrib.tpu.TPUDistributionStrategy(\n",
        "        tf.contrib.cluster_resolver.TPUClusterResolver(\n",
        "            tpu='grpc://' + os.environ['COLAB_TPU_ADDR'])\n",
        "    )\n",
        ")\n",
        "tpu_model.compile(\n",
        "    optimizer=tf.train.AdamOptimizer(learning_rate=1e-3, ),\n",
        "    loss=tf.keras.losses.sparse_categorical_crossentropy,\n",
        "    metrics=['sparse_categorical_accuracy']\n",
        ")"
      ],
      "execution_count": 0,
      "outputs": []
    },
    {
      "metadata": {
        "id": "927y5AIykF70",
        "colab_type": "code",
        "colab": {}
      },
      "cell_type": "code",
      "source": [
        "tpu_model.fit(train_images, train_labels, batch_size=64 * 8, epochs=20, \n",
        "          validation_split=0.1)"
      ],
      "execution_count": 0,
      "outputs": []
    },
    {
      "metadata": {
        "id": "uwetC3lnkn3Z",
        "colab_type": "text"
      },
      "cell_type": "markdown",
      "source": [
        "We got a pretty nice performance boost from using CNN."
      ]
    },
    {
      "metadata": {
        "id": "A32-8FHxkqkn",
        "colab_type": "text"
      },
      "cell_type": "markdown",
      "source": [
        "##  VGG-16 from Scratch using Keras\n",
        "\n",
        "Since the dataset is relatively simple in terms of classification difficulty and that it is greyscale image, we are going to reduce the channel depth of the convolution layers to 1/4 of the original in the VGG paper. We would also use only one fully connected layer."
      ]
    },
    {
      "metadata": {
        "id": "J-atuO3JneCj",
        "colab_type": "code",
        "colab": {}
      },
      "cell_type": "code",
      "source": [
        "from tensorflow.keras.layers import Reshape, Conv2D, MaxPool2D, Dense, Flatten\n",
        "from functools import partial"
      ],
      "execution_count": 0,
      "outputs": []
    },
    {
      "metadata": {
        "id": "2xTru2NTkIt7",
        "colab_type": "code",
        "colab": {}
      },
      "cell_type": "code",
      "source": [
        "def vgg_conv(kernel_size, num_channel):\n",
        "  return Conv2D(kernel_size, num_channel, 1, 'same',\n",
        "                activation='relu',use_bias=True, \n",
        "                kernel_initializer=keras.initializers.he_uniform())\n",
        "\n",
        "vgg_conv_k3 = partial(vgg_conv, 3)\n",
        "vgg_conv_k1 = partial(vgg_conv, 1)\n",
        "\n",
        "def vgg_max_pool():\n",
        "  return MaxPool2D(2, 2, 'same')\n",
        "\n",
        "def vgg_dense():\n",
        "  return Dense(4096, 'relu', True)\n",
        "\n",
        "model = keras.models.Sequential([\n",
        "    Reshape((28, 28, 1), input_shape=(28, 28)),\n",
        "    vgg_conv_k3(64),\n",
        "    vgg_conv_k3(64),\n",
        "    vgg_max_pool(),\n",
        "    \n",
        "    vgg_conv_k3(128),\n",
        "    vgg_conv_k3(128),\n",
        "    vgg_max_pool(),\n",
        "    \n",
        "    vgg_conv_k3(256),\n",
        "    vgg_conv_k3(256),\n",
        "    vgg_conv_k1(256),\n",
        "    vgg_max_pool(),\n",
        "    \n",
        "    vgg_conv_k3(512),\n",
        "    vgg_conv_k3(512),\n",
        "    vgg_conv_k1(512),\n",
        "    vgg_max_pool(),\n",
        "    \n",
        "    vgg_conv_k3(512),\n",
        "    vgg_conv_k3(512),\n",
        "    vgg_conv_k1(512),\n",
        "    vgg_max_pool(),\n",
        "    \n",
        "    Flatten(),\n",
        "    vgg_dense(),\n",
        "    vgg_dense(),\n",
        "    Dense(10, 'softmax', True)\n",
        "])"
      ],
      "execution_count": 0,
      "outputs": []
    },
    {
      "metadata": {
        "id": "T5rYiqWVpX4E",
        "colab_type": "code",
        "colab": {
          "base_uri": "https://localhost:8080/",
          "height": 918
        },
        "outputId": "1bfa7adf-787e-492b-c930-5b45dcace0b1"
      },
      "cell_type": "code",
      "source": [
        "model.summary()"
      ],
      "execution_count": 34,
      "outputs": [
        {
          "output_type": "stream",
          "text": [
            "_________________________________________________________________\n",
            "Layer (type)                 Output Shape              Param #   \n",
            "=================================================================\n",
            "reshape_3 (Reshape)          (None, 28, 28, 1)         0         \n",
            "_________________________________________________________________\n",
            "conv2d_26 (Conv2D)           (None, 28, 28, 3)         12291     \n",
            "_________________________________________________________________\n",
            "conv2d_27 (Conv2D)           (None, 28, 28, 3)         36867     \n",
            "_________________________________________________________________\n",
            "max_pooling2d_10 (MaxPooling (None, 14, 14, 3)         0         \n",
            "_________________________________________________________________\n",
            "conv2d_28 (Conv2D)           (None, 14, 14, 3)         147459    \n",
            "_________________________________________________________________\n",
            "conv2d_29 (Conv2D)           (None, 14, 14, 3)         147459    \n",
            "_________________________________________________________________\n",
            "max_pooling2d_11 (MaxPooling (None, 7, 7, 3)           0         \n",
            "_________________________________________________________________\n",
            "conv2d_30 (Conv2D)           (None, 7, 7, 3)           589827    \n",
            "_________________________________________________________________\n",
            "conv2d_31 (Conv2D)           (None, 7, 7, 3)           589827    \n",
            "_________________________________________________________________\n",
            "conv2d_32 (Conv2D)           (None, 7, 7, 1)           196609    \n",
            "_________________________________________________________________\n",
            "max_pooling2d_12 (MaxPooling (None, 4, 4, 1)           0         \n",
            "_________________________________________________________________\n",
            "conv2d_33 (Conv2D)           (None, 4, 4, 3)           786435    \n",
            "_________________________________________________________________\n",
            "conv2d_34 (Conv2D)           (None, 4, 4, 3)           2359299   \n",
            "_________________________________________________________________\n",
            "conv2d_35 (Conv2D)           (None, 4, 4, 1)           786433    \n",
            "_________________________________________________________________\n",
            "max_pooling2d_13 (MaxPooling (None, 2, 2, 1)           0         \n",
            "_________________________________________________________________\n",
            "conv2d_36 (Conv2D)           (None, 2, 2, 3)           786435    \n",
            "_________________________________________________________________\n",
            "conv2d_37 (Conv2D)           (None, 2, 2, 3)           2359299   \n",
            "_________________________________________________________________\n",
            "conv2d_38 (Conv2D)           (None, 2, 2, 1)           786433    \n",
            "_________________________________________________________________\n",
            "max_pooling2d_14 (MaxPooling (None, 1, 1, 1)           0         \n",
            "_________________________________________________________________\n",
            "flatten_2 (Flatten)          (None, 1)                 0         \n",
            "_________________________________________________________________\n",
            "dense_6 (Dense)              (None, 4096)              8192      \n",
            "_________________________________________________________________\n",
            "dense_7 (Dense)              (None, 4096)              16781312  \n",
            "_________________________________________________________________\n",
            "dense_8 (Dense)              (None, 10)                40970     \n",
            "=================================================================\n",
            "Total params: 26,415,147\n",
            "Trainable params: 26,415,147\n",
            "Non-trainable params: 0\n",
            "_________________________________________________________________\n"
          ],
          "name": "stdout"
        }
      ]
    },
    {
      "metadata": {
        "id": "VBfnC5nLpY5t",
        "colab_type": "code",
        "colab": {}
      },
      "cell_type": "code",
      "source": [
        "tpu_model = tf.contrib.tpu.keras_to_tpu_model(\n",
        "    model,\n",
        "    strategy=tf.contrib.tpu.TPUDistributionStrategy(\n",
        "        tf.contrib.cluster_resolver.TPUClusterResolver(\n",
        "            tpu='grpc://' + os.environ['COLAB_TPU_ADDR'])\n",
        "    )\n",
        ")\n",
        "tpu_model.compile(\n",
        "    optimizer=tf.train.AdamOptimizer(learning_rate=1e-3, ),\n",
        "    loss=tf.keras.losses.sparse_categorical_crossentropy,\n",
        "    metrics=['sparse_categorical_accuracy']\n",
        ")"
      ],
      "execution_count": 0,
      "outputs": []
    },
    {
      "metadata": {
        "id": "YiY32zk8q3EI",
        "colab_type": "code",
        "colab": {}
      },
      "cell_type": "code",
      "source": [
        "tpu_model.fit(train_images, train_labels, batch_size=64 * 8, epochs=20, \n",
        "          validation_split=0.1)"
      ],
      "execution_count": 0,
      "outputs": []
    },
    {
      "metadata": {
        "id": "rySMSTIn9WLu",
        "colab_type": "text"
      },
      "cell_type": "markdown",
      "source": [
        "## ResNet-18 from Scratch using Keras"
      ]
    },
    {
      "metadata": {
        "id": "4cxqoAMU7IBq",
        "colab_type": "code",
        "colab": {}
      },
      "cell_type": "code",
      "source": [
        ""
      ],
      "execution_count": 0,
      "outputs": []
    }
  ]
}